{
 "cells": [
  {
   "cell_type": "code",
   "execution_count": 1,
   "id": "7ec22c92-7c33-4a73-9adc-5ad42c1ebbf8",
   "metadata": {},
   "outputs": [],
   "source": [
    "#Mindex Coding Assignment"
   ]
  },
  {
   "cell_type": "code",
   "execution_count": 2,
   "id": "03ebeda3-22a1-482c-9f4b-77ff88c0e618",
   "metadata": {},
   "outputs": [],
   "source": [
    "from etl_functions import *\n",
    "import pandas as pd\n",
    "from sqlalchemy import create_engine"
   ]
  },
  {
   "cell_type": "code",
   "execution_count": 3,
   "id": "cf4c11fd-8c00-4492-9c62-d8dd590245ef",
   "metadata": {},
   "outputs": [
    {
     "name": "stdout",
     "output_type": "stream",
     "text": [
      "starting file downloads\n",
      "downloaded all files from s3\n"
     ]
    }
   ],
   "source": [
    "#Use helper function to download all files from S3 and save locally\n",
    "download_raw_files()"
   ]
  },
  {
   "cell_type": "code",
   "execution_count": 4,
   "id": "eebf048f-39ea-4a02-ae55-8b502180f162",
   "metadata": {},
   "outputs": [],
   "source": [
    "#Read in csv files to pandas dataframes\n",
    "bengals = pd.read_csv(\"raw_data/bengals.csv\").set_index('Week')\n",
    "boyd = pd.read_csv(\"raw_data/boyd_receiving.csv\").set_index('Week')\n",
    "chase = pd.read_csv(\"raw_data/chase_receiving.csv\").set_index('Week')\n",
    "higgins = pd.read_csv(\"raw_data/higgins_receiving.csv\").set_index('Week')"
   ]
  },
  {
   "cell_type": "code",
   "execution_count": 5,
   "id": "f79ad0c8-325d-4bc0-b32a-14a37001b20b",
   "metadata": {},
   "outputs": [],
   "source": [
    "#join dfs together on 'week' field\n",
    "joined = bengals.join(boyd, rsuffix='_boyd').join(chase, rsuffix='_chase').join(higgins, rsuffix='_higgins') \\\n",
    "         .rename(columns={'Yards': 'Yards_boyd', 'TD': 'TD_boyd'}) \\\n",
    "         .reset_index()\n",
    "joined.columns = map(str.lower, joined.columns) #lowercase column names"
   ]
  },
  {
   "cell_type": "code",
   "execution_count": 6,
   "id": "3ab7c793-df12-434b-bd3d-f9cc4ca47ffc",
   "metadata": {},
   "outputs": [],
   "source": [
    "#Display wins/losses as text\n",
    "joined['result'] = joined['result'].apply(map_wins_losses)"
   ]
  },
  {
   "cell_type": "code",
   "execution_count": 7,
   "id": "b7b7f3bf-e8c9-4706-97f9-dc0c49e07c2e",
   "metadata": {},
   "outputs": [
    {
     "data": {
      "text/plain": [
       "25"
      ]
     },
     "execution_count": 7,
     "metadata": {},
     "output_type": "execute_result"
    }
   ],
   "source": [
    "#Write to Postgresql DB\n",
    "engine = create_engine(CONNECTION_STRING)\n",
    "joined.to_sql('ray_sidener', engine, if_exists='replace')"
   ]
  }
 ],
 "metadata": {
  "kernelspec": {
   "display_name": "Python 3 (ipykernel)",
   "language": "python",
   "name": "python3"
  },
  "language_info": {
   "codemirror_mode": {
    "name": "ipython",
    "version": 3
   },
   "file_extension": ".py",
   "mimetype": "text/x-python",
   "name": "python",
   "nbconvert_exporter": "python",
   "pygments_lexer": "ipython3",
   "version": "3.11.5"
  }
 },
 "nbformat": 4,
 "nbformat_minor": 5
}
